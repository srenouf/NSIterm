{
  "nbformat": 4,
  "nbformat_minor": 0,
  "metadata": {
    "kernelspec": {
      "display_name": "Python 3",
      "language": "python",
      "name": "python3"
    },
    "language_info": {
      "codemirror_mode": {
        "name": "ipython",
        "version": 3
      },
      "file_extension": ".py",
      "mimetype": "text/x-python",
      "name": "python",
      "nbconvert_exporter": "python",
      "pygments_lexer": "ipython3",
      "version": "3.7.8"
    },
    "colab": {
      "name": "environnement11.ipynb",
      "provenance": []
    }
  },
  "cells": [
    {
      "cell_type": "code",
      "metadata": {
        "id": "uuWF8s3qC66g",
        "outputId": "b755ee60-8b0f-407a-c14f-6823324595ca"
      },
      "source": [
        "from IPython.display import Javascript\n",
        "timeout = 120 # minutes\n",
        "Javascript(\"\"\"let timerId = setInterval(() => IPython.notebook.kernel.execute(\"a=1\"), 300000);\n",
        "setTimeout(() => { clearInterval(timerId); alert('fin de cession'); },\"\"\"+ str(timeout*1000*60)+\")\")"
      ],
      "execution_count": null,
      "outputs": [
        {
          "output_type": "execute_result",
          "data": {
            "application/javascript": [
              "let timerId = setInterval(() => IPython.notebook.kernel.execute(\"a=1\"), 300000);\n",
              "setTimeout(() => { clearInterval(timerId); alert('fin de cession'); },7200000)"
            ],
            "text/plain": [
              "<IPython.core.display.Javascript object>"
            ]
          },
          "metadata": {
            "tags": []
          },
          "execution_count": 1
        }
      ]
    },
    {
      "cell_type": "code",
      "metadata": {
        "id": "Hw892j-iC66p",
        "outputId": "9e2a6464-996b-408c-aafc-046d2398494b"
      },
      "source": [
        "Javascript(\"\"\"Jupyter.actions.call('jupyter-notebook:hide-header')\"\"\")"
      ],
      "execution_count": null,
      "outputs": [
        {
          "output_type": "execute_result",
          "data": {
            "application/javascript": [
              "Jupyter.actions.call('jupyter-notebook:hide-header')"
            ],
            "text/plain": [
              "<IPython.core.display.Javascript object>"
            ]
          },
          "metadata": {
            "tags": []
          },
          "execution_count": 2
        }
      ]
    },
    {
      "cell_type": "code",
      "metadata": {
        "id": "sHpsId2hC66y",
        "outputId": "a60ba842-9944-4126-f411-ce863447c60b",
        "colab": {
          "referenced_widgets": [
            "eac48857e8744188b4bc51db36ce2d1d"
          ]
        }
      },
      "source": [
        "from ipywidgets import FileUpload, Button, HBox, Layout, Dropdown, VBox,Label, Box\n",
        "from ipywidgets import HTML as html\n",
        "from IPython.core.display import HTML\n",
        "from IPython.display import Javascript\n",
        "import os\n",
        "liste_f = [\"---\"] # + [val for val in os.listdir() if len(val)>6 and val[-6:]==\".ipynb\" and val!=\"new.ipynb\" and val[0]!=\".\"]\n",
        "liste_f.sort()\n",
        "lock_bou3 = False\n",
        "new = 0\n",
        "liste_e = [\"---\"] + [\"Cours/TD\"]\n",
        "liste_e.sort()\n",
        "base = {}\n",
        "for val in liste_f:\n",
        "    base[val] = \"\"\n",
        "\n",
        "bou = Button(\n",
        "    description='Nouveau',\n",
        "    disabled=False,\n",
        "    button_style='', # 'success', 'info', 'warning', 'danger' or ''\n",
        "    tooltip='Nouveau',\n",
        "    icon='' # (FontAwesome names without the `fa-` prefix)\n",
        ")\n",
        "\n",
        "bou4 = Dropdown(\n",
        "    options=liste_e,\n",
        "    value=\"---\",\n",
        "    description='Catégorie',\n",
        "    disabled=False,\n",
        ")\n",
        "\n",
        "bou3 = Dropdown(\n",
        "    options=liste_f,\n",
        "    value=\"---\",\n",
        "    description='Ouvrir',\n",
        "    disabled=False,\n",
        ")\n",
        "\n",
        "f = FileUpload(\n",
        "    description = \"Charger\",\n",
        "    accept='.ipynb',  # Accepted file extension e.g. '.txt', '.pdf', 'image/*', 'image/*,.pdf'\n",
        "    multiple=False  # True to accept multiple files upload else False\n",
        ")\n",
        "\n",
        "\n",
        "bou2 = Button(\n",
        "    description='Terminal',\n",
        "    disabled=False,\n",
        "    button_style='', # 'success', 'info', 'warning', 'danger' or ''\n",
        "    tooltip='Terminal',\n",
        "    icon='' # (FontAwesome names without the `fa-` prefix)\n",
        ")\n",
        "\n",
        "def change(b):\n",
        "#    (os.path.join(root, i),\n",
        "    global lock_bou3,base\n",
        "    if bou3.value !=\"---\":\n",
        "        display(Javascript('window.open(\"../notebooks/'+base[bou3.value]+bou3.value+'\");'))\n",
        "    #else:\n",
        "    #    lock_bou3 = False\n",
        "\n",
        "\n",
        "def change2(b):\n",
        "    global lock_bou3,liste_f,bou3,bou4,base\n",
        "    #lock_bou3 = True\n",
        "    liste_f = [\"---\"]\n",
        "    if bou4.value == \"Cours/TD\":\n",
        "        liste_f += [val for val in os.listdir() if len(val)>6 and val[-6:]==\".ipynb\" and val!=\"new.ipynb\" and val[0]!=\".\"]\n",
        "        for val in liste_f:\n",
        "            base[val] = \"\"\n",
        "    liste_f.sort()\n",
        "    bou3.options = liste_f\n",
        "    bou3.value = liste_f[0]\n",
        "\n",
        "        \n",
        "    \n",
        "def on_use(b):\n",
        "    v = f.value\n",
        "    if len(v)>6 and v in os.listdir():\n",
        "        v = v[:-6]+(1)+v[-6:]\n",
        "    with open(next(iter(f.value)), \"w+b\") as i:\n",
        "        i.write(f.data[0])\n",
        "    os.popen(\"jupyter trust '{}'\".format(next(iter(f.value))))\n",
        "    url = \"../notebooks/\"+ next(iter(f.value))\n",
        "    display(Javascript('window.open(\"{url}\");'.format(url=url)))\n",
        "    #display(HTML('<a href=\"../notebooks/note.ipynb\">go !</a>'))\n",
        "\n",
        "def on_click2(b):\n",
        "    display(Javascript('window.open(\"../terminals/1\");'))\n",
        "    #display(HTML('<a href=\"../terminals/1\">go !</a>'))\n",
        "    \n",
        "def on_click(b):\n",
        "    global new\n",
        "    new += 1\n",
        "    i = open(\"new.ipynb\",\"r\")\n",
        "    j = open(\"new{}.ipynb\".format(new),\"w\")\n",
        "    j.write(i.read())\n",
        "    i.close()\n",
        "    j.close()\n",
        "    url = \"../notebooks/new{}.ipynb\".format(new)\n",
        "    display(Javascript('window.open(\"{url}\");'.format(url=url)))\n",
        "    # display(HTML('<a href=\"../notebooks/new.ipynb\">go !</a>'))\n",
        "    \n",
        "bou.on_click(on_click)\n",
        "bou2.on_click(on_click2)\n",
        "bou3.observe(change,\"value\")\n",
        "bou4.observe(change2,\"value\")\n",
        "f.observe(on_use,\"data\")\n",
        "display(HTML(\"\"\"<h1 style=\"text-align:center; width:100%;\"> Environnement JUPYTER, Terminale NSI, Beaussier</h1>\"\"\"))\n",
        "display(Box([VBox([html(\"\"\"<h4 style=\"text-align:center; width:100%;\">Ouvrir un Cours/TD</h4>\"\"\"),bou4,bou3],layout=Layout(min_width=\"350px\",flex_flow=\"column wrap\")),VBox([html(\"\"\"<h4 style=\"text-align:center; width:100%;\">Créer/Charger un notebook</h4>\"\"\"),bou,f],layout=Layout(min_width=\"200px\",flex_flow=\"column wrap\")),VBox([html(\"\"\"<h4 style=\"text-align:center; width:100%;\">Terminal Linux</h4>\"\"\"),bou2],layout=Layout(flex_flow=\"column wrap\",min_width=\"200px\"))],layout=Layout(width=\"100%\",height=\"auto\",display=\"flex\",flex_flow=\"row wrap\",min_width='800px',justify_content='space-around')))"
      ],
      "execution_count": null,
      "outputs": [
        {
          "output_type": "display_data",
          "data": {
            "text/html": [
              "<h1 style=\"text-align:center; width:100%;\"> Environnement JUPYTER </h1>"
            ],
            "text/plain": [
              "<IPython.core.display.HTML object>"
            ]
          },
          "metadata": {
            "tags": []
          }
        },
        {
          "output_type": "display_data",
          "data": {
            "application/vnd.jupyter.widget-view+json": {
              "model_id": "eac48857e8744188b4bc51db36ce2d1d",
              "version_major": 2,
              "version_minor": 0
            },
            "text/plain": [
              "Box(children=(VBox(children=(HTML(value='<h4 style=\"text-align:center; width:100%;\">Ouvrir un Cours/TD</h4>'),…"
            ]
          },
          "metadata": {
            "tags": []
          }
        }
      ]
    }
  ]
}